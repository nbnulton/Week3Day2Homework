{
 "cells": [
  {
   "cell_type": "markdown",
   "id": "7196054f",
   "metadata": {},
   "source": [
    "# Working with APIs"
   ]
  },
  {
   "cell_type": "markdown",
   "id": "0547b71e",
   "metadata": {},
   "source": [
    "API stands for Application programming interface<br>\n",
    "APIs are a way for applications to talk to eachother<br>\n",
    "In python we use the requests package to handle the connection<br>\n",
    "<small><strong>Note: It is requests with an s not request(this is a different package)</strong></small><br>\n",
    "Most API's communicate with data in the form of JSON<br>\n",
    "JSON stands for JavaScript Object Notation"
   ]
  },
  {
   "cell_type": "code",
   "execution_count": null,
   "id": "4db9d154",
   "metadata": {},
   "outputs": [],
   "source": [
    "#import the packages we need:\n",
    "import requests, json"
   ]
  },
  {
   "cell_type": "markdown",
   "id": "e8c2ce51",
   "metadata": {},
   "source": [
    "We will be connecting to the Ergast F1 Racer API today:\n",
    "http://ergast.com/mrd/\n",
    "\n",
    "to view JSON data nicely in the Chrome browser install the extension JSONview"
   ]
  },
  {
   "cell_type": "code",
   "execution_count": null,
   "id": "a363f77a",
   "metadata": {},
   "outputs": [],
   "source": [
    "help(requests)"
   ]
  },
  {
   "cell_type": "code",
   "execution_count": null,
   "id": "52c440c6",
   "metadata": {},
   "outputs": [],
   "source": [
    "url = \"http://ergast.com/api/f1/2008/5/driverStandings.json\""
   ]
  },
  {
   "cell_type": "code",
   "execution_count": null,
   "id": "f60c1b4a",
   "metadata": {},
   "outputs": [],
   "source": [
    "response = requests.get(url)\n",
    "response"
   ]
  },
  {
   "cell_type": "code",
   "execution_count": null,
   "id": "7b63a204",
   "metadata": {},
   "outputs": [],
   "source": [
    "#response object\n",
    "help(response)"
   ]
  },
  {
   "cell_type": "code",
   "execution_count": null,
   "id": "c6d1fdaf",
   "metadata": {},
   "outputs": [],
   "source": [
    "#check and make sure we got a successful response from the API\n",
    "response.ok"
   ]
  },
  {
   "cell_type": "code",
   "execution_count": null,
   "id": "ed4d3256",
   "metadata": {},
   "outputs": [],
   "source": [
    "#view the response as a JSON\n",
    "response.json()"
   ]
  },
  {
   "cell_type": "code",
   "execution_count": null,
   "id": "92e6cd2c",
   "metadata": {},
   "outputs": [],
   "source": [
    "type(response.json())"
   ]
  },
  {
   "cell_type": "code",
   "execution_count": null,
   "id": "f074dfcf",
   "metadata": {},
   "outputs": [],
   "source": [
    "# We only want the Driver Standings\n",
    "data = response.json()[\"MRData\"][\"StandingsTable\"][\"StandingsLists\"][0][\"DriverStandings\"]\n",
    "data"
   ]
  },
  {
   "cell_type": "code",
   "execution_count": null,
   "id": "be46a950",
   "metadata": {},
   "outputs": [],
   "source": [
    "def get_racer_info(data):\n",
    "    new_data=[]\n",
    "    for racer in data:\n",
    "        racer_dict={}\n",
    "        racer_name = f\"{racer['Driver']['givenName']} {racer['Driver']['familyName']}\"\n",
    "        racer_dict[racer_name]={\n",
    "            'first_name':racer['Driver']['givenName'],\n",
    "            'last_name':racer['Driver']['familyName'],\n",
    "            'position':racer['position'],\n",
    "            'wins':racer['wins'],\n",
    "            'DOB':racer['Driver']['dateOfBirth'],\n",
    "            'nationality':racer['Driver']['nationality'],\n",
    "            'constructor':racer['Constructors'][0]['name']\n",
    "        }\n",
    "        new_data.append(racer_dict)\n",
    "    return new_data\n",
    "get_racer_info(data)"
   ]
  },
  {
   "cell_type": "code",
   "execution_count": null,
   "id": "3740c752",
   "metadata": {},
   "outputs": [],
   "source": [
    "def get_driver_info_by_year_and_round(year,r):\n",
    "    url = f\"http://ergast.com/api/f1/{year}/{r}/driverStandings.json\"\n",
    "    response = requests.get(url)\n",
    "    if not response.ok:\n",
    "        return \"WE had an error loading your data likely the year or round is not in the database\"\n",
    "    data = response.json()[\"MRData\"][\"StandingsTable\"][\"StandingsLists\"][0][\"DriverStandings\"]\n",
    "    return get_racer_info(data)\n",
    "\n",
    "get_driver_info_by_year_and_round(1954,1)"
   ]
  },
  {
   "cell_type": "markdown",
   "id": "6d546014",
   "metadata": {},
   "source": [
    "# <strong>Homework</strong>\n",
    "check out this Pokemon API https://pokeapi.co/\n",
    "Use the requests package to connect to this API and get and store data for 5 different pokemon.\n",
    "Get the pokemons: name, atleast one ability's name, base_experience, and the URL for its sprite (an image that shows up on screen) for the 'front_shiny'"
   ]
  },
  {
   "cell_type": "code",
   "execution_count": 1,
   "id": "5a9081e3",
   "metadata": {},
   "outputs": [
    {
     "data": {
      "text/plain": [
       "<Response [404]>"
      ]
     },
     "execution_count": 1,
     "metadata": {},
     "output_type": "execute_result"
    }
   ],
   "source": [
    "import requests, json\n",
    "url = \"https://pokeapi.co/.json\"\n",
    "response = requests.get(url)\n",
    "response\n"
   ]
  },
  {
   "cell_type": "code",
   "execution_count": null,
   "id": "4869b5b6",
   "metadata": {},
   "outputs": [],
   "source": []
  }
 ],
 "metadata": {
  "kernelspec": {
   "display_name": "Python 3",
   "language": "python",
   "name": "python3"
  },
  "language_info": {
   "codemirror_mode": {
    "name": "ipython",
    "version": 3
   },
   "file_extension": ".py",
   "mimetype": "text/x-python",
   "name": "python",
   "nbconvert_exporter": "python",
   "pygments_lexer": "ipython3",
   "version": "3.8.8"
  }
 },
 "nbformat": 4,
 "nbformat_minor": 5
}
